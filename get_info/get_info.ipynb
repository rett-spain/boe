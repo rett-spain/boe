{
 "cells": [
  {
   "cell_type": "code",
   "execution_count": 90,
   "metadata": {},
   "outputs": [],
   "source": [
    "import os\n",
    "import requests\n",
    "from bs4 import BeautifulSoup\n",
    "from datetime import datetime\n",
    "\n",
    "BASE_URL = \"https://boe.es/diario_boe/xml.php?id=BOE-S-{}\"\n",
    "BOE_URL = \"https://www.boe.es\""
   ]
  },
  {
   "cell_type": "code",
   "execution_count": 91,
   "metadata": {},
   "outputs": [],
   "source": [
    "def get_valid_boe_list(start_date):\n",
    "\n",
    "    current_date = datetime.strptime(start_date, \"%Y%m%d\")\n",
    "    valid_boe_list = []\n",
    "\n",
    "    while True:\n",
    "        formatted_date = current_date.strftime(\"%Y%m%d\")\n",
    "        url = BASE_URL.format(formatted_date)\n",
    "\n",
    "        response = requests.get(url)\n",
    "\n",
    "        if response.status_code == 200:\n",
    "            soup = BeautifulSoup(response.text, \"lxml-xml\")  # Change to \"lxml\"\n",
    "\n",
    "            # Check if the file exists\n",
    "            error_element = soup.find(\"descripcion\")\n",
    "            if error_element and \"No se encontró el sumario original.\" in error_element.text:\n",
    "                print(f\"No data available for {formatted_date}.\")\n",
    "                break\n",
    "\n",
    "            # Valid date, append to the list\n",
    "            valid_boe_list.append(formatted_date)  # Append only the date\n",
    "\n",
    "            # Check the next date inside the XML, if it exists we continue\n",
    "            fecha_sig_element = soup.find(\"fechaSig\")\n",
    "            if fecha_sig_element and fecha_sig_element.text:\n",
    "                next_date_str = fecha_sig_element.text\n",
    "                next_date = datetime.strptime(next_date_str, \"%d/%m/%Y\")\n",
    "\n",
    "                current_date = next_date\n",
    "            else:\n",
    "                break\n",
    "        else:\n",
    "            print(f\"Failed to fetch data for {formatted_date}. Status code: {response.status_code}\")\n",
    "            break\n",
    "\n",
    "    return valid_boe_list\n"
   ]
  },
  {
   "cell_type": "code",
   "execution_count": 92,
   "metadata": {},
   "outputs": [],
   "source": [
    "def get_url_for_discapacidad(dates, label):\n",
    "    urls_for_discapacidad = {}\n",
    "\n",
    "    for date in dates:\n",
    "        url = BASE_URL.format(date)\n",
    "\n",
    "        response = requests.get(url)\n",
    "        if response.status_code == 200:\n",
    "            soup = BeautifulSoup(response.text, \"lxml-xml\")\n",
    "            items = soup.find_all(\"item\")\n",
    "\n",
    "            for item in items:\n",
    "                titulo_tag = item.find(\"titulo\")\n",
    "                if titulo_tag and label in titulo_tag.text.lower():\n",
    "                    url_pdf_tag = item.find(\"urlPdf\")\n",
    "                    url_xml_tag = item.find(\"urlXml\")\n",
    "                    if url_pdf_tag and url_xml_tag:\n",
    "                        urls_for_discapacidad[date] = {\n",
    "                            \"urlPdf\": url_pdf_tag.text,\n",
    "                            \"urlXml\": url_xml_tag.text\n",
    "                        }\n",
    "        else:\n",
    "            print(f\"Failed to fetch data for {date}. Status code: {response.status_code}\")\n",
    "\n",
    "    return urls_for_discapacidad\n"
   ]
  },
  {
   "cell_type": "code",
   "execution_count": 93,
   "metadata": {},
   "outputs": [],
   "source": [
    "def download_files(file_urls, folder=\"files\"):\n",
    "    # Create a folder for the files, one for PDFs and one for XMLs\n",
    "    os.makedirs(os.path.join(folder, \"pdf\"), exist_ok=True)\n",
    "    os.makedirs(os.path.join(folder, \"xml\"), exist_ok=True)\n",
    "\n",
    "    for date, urls in file_urls.items():\n",
    "        pdf_url = BOE_URL + urls['urlPdf']\n",
    "        xml_url = BOE_URL + urls['urlXml']\n",
    "\n",
    "        pdf_filename = os.path.join(folder, \"pdf\", f\"{date}.pdf\")\n",
    "        xml_filename = os.path.join(folder, \"xml\", f\"{date}.xml\")\n",
    "\n",
    "        download_file(pdf_url, pdf_filename)\n",
    "        download_file(xml_url, xml_filename)\n",
    "\n",
    "def download_file(url, filename):\n",
    "    response = requests.get(url)\n",
    "    if response.status_code == 200:\n",
    "        with open(filename, 'wb') as file:\n",
    "            file.write(response.content)\n",
    "        print(f\"Downloaded: {filename}\")\n",
    "    else:\n",
    "        print(f\"Failed to download {filename}. Status code: {response.status_code}\")\n"
   ]
  },
  {
   "cell_type": "code",
   "execution_count": 94,
   "metadata": {},
   "outputs": [
    {
     "name": "stdout",
     "output_type": "stream",
     "text": [
      "['20231101', '20231102', '20231103', '20231104', '20231106', '20231107', '20231108', '20231109', '20231110', '20231111', '20231113', '20231114', '20231115', '20231116', '20231117', '20231118', '20231120', '20231121', '20231122', '20231123', '20231124', '20231125']\n",
      "Date: 20231107, PDF URL for 'discapacidad': {'urlPdf': '/boe/dias/2023/11/07/pdfs/BOE-A-2023-22678.pdf', 'urlXml': '/diario_boe/xml.php?id=BOE-A-2023-22678'}\n",
      "Date: 20231108, PDF URL for 'discapacidad': {'urlPdf': '/boe/dias/2023/11/08/pdfs/BOE-B-2023-32820.pdf', 'urlXml': '/diario_boe/xml.php?id=BOE-B-2023-32820'}\n",
      "Date: 20231114, PDF URL for 'discapacidad': {'urlPdf': '/boe/dias/2023/11/14/pdfs/BOE-A-2023-23110.pdf', 'urlXml': '/diario_boe/xml.php?id=BOE-A-2023-23110'}\n",
      "Date: 20231115, PDF URL for 'discapacidad': {'urlPdf': '/boe/dias/2023/11/15/pdfs/BOE-B-2023-33684.pdf', 'urlXml': '/diario_boe/xml.php?id=BOE-B-2023-33684'}\n",
      "Date: 20231121, PDF URL for 'discapacidad': {'urlPdf': '/boe/dias/2023/11/21/pdfs/BOE-B-2023-34719.pdf', 'urlXml': '/diario_boe/xml.php?id=BOE-B-2023-34719'}\n"
     ]
    },
    {
     "ename": "FileNotFoundError",
     "evalue": "[Errno 2] No such file or directory: 'downloaded_files\\\\pdf\\\\20231107.pdf'",
     "output_type": "error",
     "traceback": [
      "\u001b[1;31m---------------------------------------------------------------------------\u001b[0m",
      "\u001b[1;31mFileNotFoundError\u001b[0m                         Traceback (most recent call last)",
      "Cell \u001b[1;32mIn[94], line 12\u001b[0m\n\u001b[0;32m      9\u001b[0m \u001b[38;5;28;01mfor\u001b[39;00m date, pdf_url \u001b[38;5;129;01min\u001b[39;00m pdf_urls_for_discapacidad\u001b[38;5;241m.\u001b[39mitems():\n\u001b[0;32m     10\u001b[0m     \u001b[38;5;28mprint\u001b[39m(\u001b[38;5;124mf\u001b[39m\u001b[38;5;124m\"\u001b[39m\u001b[38;5;124mDate: \u001b[39m\u001b[38;5;132;01m{\u001b[39;00mdate\u001b[38;5;132;01m}\u001b[39;00m\u001b[38;5;124m, PDF URL for \u001b[39m\u001b[38;5;124m'\u001b[39m\u001b[38;5;124mdiscapacidad\u001b[39m\u001b[38;5;124m'\u001b[39m\u001b[38;5;124m: \u001b[39m\u001b[38;5;132;01m{\u001b[39;00mpdf_url\u001b[38;5;132;01m}\u001b[39;00m\u001b[38;5;124m\"\u001b[39m)\n\u001b[1;32m---> 12\u001b[0m \u001b[43mdownload_files\u001b[49m\u001b[43m(\u001b[49m\u001b[43mpdf_urls_for_discapacidad\u001b[49m\u001b[43m,\u001b[49m\u001b[43m \u001b[49m\u001b[43mfolder\u001b[49m\u001b[38;5;241;43m=\u001b[39;49m\u001b[38;5;124;43m\"\u001b[39;49m\u001b[38;5;124;43mdownloaded_files\u001b[39;49m\u001b[38;5;124;43m\"\u001b[39;49m\u001b[43m)\u001b[49m\n",
      "Cell \u001b[1;32mIn[93], line 11\u001b[0m, in \u001b[0;36mdownload_files\u001b[1;34m(file_urls, folder)\u001b[0m\n\u001b[0;32m      8\u001b[0m pdf_filename \u001b[38;5;241m=\u001b[39m os\u001b[38;5;241m.\u001b[39mpath\u001b[38;5;241m.\u001b[39mjoin(folder, \u001b[38;5;124m\"\u001b[39m\u001b[38;5;124mpdf\u001b[39m\u001b[38;5;124m\"\u001b[39m, \u001b[38;5;124mf\u001b[39m\u001b[38;5;124m\"\u001b[39m\u001b[38;5;132;01m{\u001b[39;00mdate\u001b[38;5;132;01m}\u001b[39;00m\u001b[38;5;124m.pdf\u001b[39m\u001b[38;5;124m\"\u001b[39m)\n\u001b[0;32m      9\u001b[0m xml_filename \u001b[38;5;241m=\u001b[39m os\u001b[38;5;241m.\u001b[39mpath\u001b[38;5;241m.\u001b[39mjoin(folder, \u001b[38;5;124m\"\u001b[39m\u001b[38;5;124mxml\u001b[39m\u001b[38;5;124m\"\u001b[39m, \u001b[38;5;124mf\u001b[39m\u001b[38;5;124m\"\u001b[39m\u001b[38;5;132;01m{\u001b[39;00mdate\u001b[38;5;132;01m}\u001b[39;00m\u001b[38;5;124m.xml\u001b[39m\u001b[38;5;124m\"\u001b[39m)\n\u001b[1;32m---> 11\u001b[0m \u001b[43mdownload_file\u001b[49m\u001b[43m(\u001b[49m\u001b[43mpdf_url\u001b[49m\u001b[43m,\u001b[49m\u001b[43m \u001b[49m\u001b[43mpdf_filename\u001b[49m\u001b[43m)\u001b[49m\n\u001b[0;32m     12\u001b[0m download_file(xml_url, xml_filename)\n",
      "Cell \u001b[1;32mIn[93], line 17\u001b[0m, in \u001b[0;36mdownload_file\u001b[1;34m(url, filename)\u001b[0m\n\u001b[0;32m     15\u001b[0m response \u001b[38;5;241m=\u001b[39m requests\u001b[38;5;241m.\u001b[39mget(url)\n\u001b[0;32m     16\u001b[0m \u001b[38;5;28;01mif\u001b[39;00m response\u001b[38;5;241m.\u001b[39mstatus_code \u001b[38;5;241m==\u001b[39m \u001b[38;5;241m200\u001b[39m:\n\u001b[1;32m---> 17\u001b[0m     \u001b[38;5;28;01mwith\u001b[39;00m \u001b[38;5;28;43mopen\u001b[39;49m\u001b[43m(\u001b[49m\u001b[43mfilename\u001b[49m\u001b[43m,\u001b[49m\u001b[43m \u001b[49m\u001b[38;5;124;43m'\u001b[39;49m\u001b[38;5;124;43mwb\u001b[39;49m\u001b[38;5;124;43m'\u001b[39;49m\u001b[43m)\u001b[49m \u001b[38;5;28;01mas\u001b[39;00m file:\n\u001b[0;32m     18\u001b[0m         file\u001b[38;5;241m.\u001b[39mwrite(response\u001b[38;5;241m.\u001b[39mcontent)\n\u001b[0;32m     19\u001b[0m     \u001b[38;5;28mprint\u001b[39m(\u001b[38;5;124mf\u001b[39m\u001b[38;5;124m\"\u001b[39m\u001b[38;5;124mDownloaded: \u001b[39m\u001b[38;5;132;01m{\u001b[39;00mfilename\u001b[38;5;132;01m}\u001b[39;00m\u001b[38;5;124m\"\u001b[39m)\n",
      "File \u001b[1;32mc:\\Users\\perocha\\AppData\\Local\\Programs\\Python\\Python311\\Lib\\site-packages\\IPython\\core\\interactiveshell.py:282\u001b[0m, in \u001b[0;36m_modified_open\u001b[1;34m(file, *args, **kwargs)\u001b[0m\n\u001b[0;32m    275\u001b[0m \u001b[38;5;28;01mif\u001b[39;00m file \u001b[38;5;129;01min\u001b[39;00m {\u001b[38;5;241m0\u001b[39m, \u001b[38;5;241m1\u001b[39m, \u001b[38;5;241m2\u001b[39m}:\n\u001b[0;32m    276\u001b[0m     \u001b[38;5;28;01mraise\u001b[39;00m \u001b[38;5;167;01mValueError\u001b[39;00m(\n\u001b[0;32m    277\u001b[0m         \u001b[38;5;124mf\u001b[39m\u001b[38;5;124m\"\u001b[39m\u001b[38;5;124mIPython won\u001b[39m\u001b[38;5;124m'\u001b[39m\u001b[38;5;124mt let you open fd=\u001b[39m\u001b[38;5;132;01m{\u001b[39;00mfile\u001b[38;5;132;01m}\u001b[39;00m\u001b[38;5;124m by default \u001b[39m\u001b[38;5;124m\"\u001b[39m\n\u001b[0;32m    278\u001b[0m         \u001b[38;5;124m\"\u001b[39m\u001b[38;5;124mas it is likely to crash IPython. If you know what you are doing, \u001b[39m\u001b[38;5;124m\"\u001b[39m\n\u001b[0;32m    279\u001b[0m         \u001b[38;5;124m\"\u001b[39m\u001b[38;5;124myou can use builtins\u001b[39m\u001b[38;5;124m'\u001b[39m\u001b[38;5;124m open.\u001b[39m\u001b[38;5;124m\"\u001b[39m\n\u001b[0;32m    280\u001b[0m     )\n\u001b[1;32m--> 282\u001b[0m \u001b[38;5;28;01mreturn\u001b[39;00m \u001b[43mio_open\u001b[49m\u001b[43m(\u001b[49m\u001b[43mfile\u001b[49m\u001b[43m,\u001b[49m\u001b[43m \u001b[49m\u001b[38;5;241;43m*\u001b[39;49m\u001b[43margs\u001b[49m\u001b[43m,\u001b[49m\u001b[43m \u001b[49m\u001b[38;5;241;43m*\u001b[39;49m\u001b[38;5;241;43m*\u001b[39;49m\u001b[43mkwargs\u001b[49m\u001b[43m)\u001b[49m\n",
      "\u001b[1;31mFileNotFoundError\u001b[0m: [Errno 2] No such file or directory: 'downloaded_files\\\\pdf\\\\20231107.pdf'"
     ]
    }
   ],
   "source": [
    "\n",
    "# Example usage:\n",
    "start_date = \"20231101\"\n",
    "boe_list = get_valid_boe_list(start_date)\n",
    "print(boe_list)\n",
    "\n",
    "label = \"discapacidad\"\n",
    "pdf_urls_for_discapacidad = get_url_for_discapacidad(boe_list, label)\n",
    "\n",
    "for date, pdf_url in pdf_urls_for_discapacidad.items():\n",
    "    print(f\"Date: {date}, PDF URL for 'discapacidad': {pdf_url}\")\n",
    "\n",
    "download_files(pdf_urls_for_discapacidad, folder=\"downloaded_files\")\n"
   ]
  }
 ],
 "metadata": {
  "kernelspec": {
   "display_name": "Python 3",
   "language": "python",
   "name": "python3"
  },
  "language_info": {
   "codemirror_mode": {
    "name": "ipython",
    "version": 3
   },
   "file_extension": ".py",
   "mimetype": "text/x-python",
   "name": "python",
   "nbconvert_exporter": "python",
   "pygments_lexer": "ipython3",
   "version": "3.11.2"
  }
 },
 "nbformat": 4,
 "nbformat_minor": 2
}
